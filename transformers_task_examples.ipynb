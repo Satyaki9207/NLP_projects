{
  "nbformat": 4,
  "nbformat_minor": 0,
  "metadata": {
    "colab": {
      "provenance": []
    },
    "kernelspec": {
      "name": "python3",
      "display_name": "Python 3"
    },
    "language_info": {
      "name": "python"
    }
  },
  "cells": [
    {
      "cell_type": "code",
      "source": [
        "# !pip install fastapi==0.104.1 typing_extensions==4.8.0 gradio==3.41.0"
      ],
      "metadata": {
        "id": "sYOFu3DIEO-0"
      },
      "execution_count": 2,
      "outputs": []
    },
    {
      "cell_type": "code",
      "execution_count": 3,
      "metadata": {
        "id": "s_si5EZkA96K"
      },
      "outputs": [],
      "source": [
        "from transformers import pipeline,Conversation\n",
        "import gradio as gr"
      ]
    },
    {
      "cell_type": "code",
      "source": [
        "# Text classification\n",
        "classifier=pipeline(task=\"sentiment-analysis\",model=\"distilbert-base-uncased-finetuned-sst-2-english\",top_k=None)\n",
        "text_list = [\"This is great\", \\\n",
        "             \"Thanks for nothing\", \\\n",
        "             \"You've got to work on your face\", \\\n",
        "             \"You're beautiful, never change!\"]\n",
        "classifier(text_list[0])"
      ],
      "metadata": {
        "colab": {
          "base_uri": "https://localhost:8080/"
        },
        "id": "d6td1QcLBDfr",
        "outputId": "232da087-ae2e-46cc-d34b-ba50c24ec2d7"
      },
      "execution_count": 3,
      "outputs": [
        {
          "output_type": "execute_result",
          "data": {
            "text/plain": [
              "[[{'label': 'POSITIVE', 'score': 0.9998785257339478},\n",
              "  {'label': 'NEGATIVE', 'score': 0.00012143843923695385}]]"
            ]
          },
          "metadata": {},
          "execution_count": 3
        }
      ]
    },
    {
      "cell_type": "code",
      "source": [
        "# Returning multiple labels\n",
        "classifier = pipeline(task=\"text-classification\", model=\"SamLowe/roberta-base-go_emotions\", top_k=None)\n",
        "classifier(text_list[0])"
      ],
      "metadata": {
        "colab": {
          "base_uri": "https://localhost:8080/"
        },
        "id": "ASA2XXr0BDqc",
        "outputId": "01581f70-0fde-486c-9511-6f4d87d835c0"
      },
      "execution_count": 7,
      "outputs": [
        {
          "output_type": "execute_result",
          "data": {
            "text/plain": [
              "[[{'label': 'admiration', 'score': 0.9526104927062988},\n",
              "  {'label': 'approval', 'score': 0.030472073704004288},\n",
              "  {'label': 'neutral', 'score': 0.015236238949000835},\n",
              "  {'label': 'excitement', 'score': 0.006063767243176699},\n",
              "  {'label': 'gratitude', 'score': 0.005296194460242987},\n",
              "  {'label': 'joy', 'score': 0.004475215449929237},\n",
              "  {'label': 'curiosity', 'score': 0.004322330001741648},\n",
              "  {'label': 'realization', 'score': 0.004089601803570986},\n",
              "  {'label': 'optimism', 'score': 0.00407722033560276},\n",
              "  {'label': 'disapproval', 'score': 0.004076560027897358},\n",
              "  {'label': 'annoyance', 'score': 0.0035287411883473396},\n",
              "  {'label': 'surprise', 'score': 0.0029730673413723707},\n",
              "  {'label': 'disappointment', 'score': 0.002734638284891844},\n",
              "  {'label': 'love', 'score': 0.00269457814283669},\n",
              "  {'label': 'amusement', 'score': 0.0024867462925612926},\n",
              "  {'label': 'confusion', 'score': 0.0023607409093528986},\n",
              "  {'label': 'pride', 'score': 0.0021013382356613874},\n",
              "  {'label': 'sadness', 'score': 0.0017730530817061663},\n",
              "  {'label': 'anger', 'score': 0.0017196922563016415},\n",
              "  {'label': 'caring', 'score': 0.0013670086627826095},\n",
              "  {'label': 'desire', 'score': 0.0010478721233084798},\n",
              "  {'label': 'disgust', 'score': 0.0009689942235127091},\n",
              "  {'label': 'fear', 'score': 0.0005249778041616082},\n",
              "  {'label': 'relief', 'score': 0.0004862115893047303},\n",
              "  {'label': 'embarrassment', 'score': 0.00034175071050412953},\n",
              "  {'label': 'grief', 'score': 0.0003389191988389939},\n",
              "  {'label': 'remorse', 'score': 0.0002780948707368225},\n",
              "  {'label': 'nervousness', 'score': 0.00020788486290257424}]]"
            ]
          },
          "metadata": {},
          "execution_count": 7
        }
      ]
    },
    {
      "cell_type": "code",
      "source": [
        "# Summarization\n",
        "summarizer = pipeline(\"summarization\", model=\"facebook/bart-large-cnn\")\n",
        "text = \"\"\"\n",
        "Hugging Face is an AI company that has become a major hub for open-source machine learning.\n",
        "Their platform has 3 major elements which allow users to access and share machine learning resources.\n",
        "First, is their rapidly growing repository of pre-trained open-source machine learning models for things such as natural language processing (NLP), computer vision, and more.\n",
        "Second, is their library of datasets for training machine learning models for almost any task.\n",
        "Third, and finally, is Spaces which is a collection of open-source ML apps.\n",
        "\n",
        "The power of these resources is that they are community generated, which leverages all the benefits of open source i.e. cost-free, wide diversity of tools, high quality resources, and rapid pace of innovation.\n",
        "While these make building powerful ML projects more accessible than before, there is another key element of the Hugging Face ecosystem—their Transformers library.\n",
        "\"\"\"\n",
        "summarized_text = summarizer(text, min_length=5, max_length=140)[0]['summary_text']\n",
        "summarized_text"
      ],
      "metadata": {
        "colab": {
          "base_uri": "https://localhost:8080/",
          "height": 36
        },
        "id": "3AEriOYSBDys",
        "outputId": "fbff200f-d268-4ea3-b69d-32ba59cc2e8b"
      },
      "execution_count": 14,
      "outputs": [
        {
          "output_type": "execute_result",
          "data": {
            "text/plain": [
              "'Hugging Face is an AI company that has become a major hub for open-source machine learning. They have 3 major elements which allow users to access and share machine learning resources.'"
            ],
            "application/vnd.google.colaboratory.intrinsic+json": {
              "type": "string"
            }
          },
          "metadata": {},
          "execution_count": 14
        }
      ]
    },
    {
      "cell_type": "code",
      "source": [
        "chatbot = pipeline(model=\"facebook/blenderbot-400M-distill\")\n",
        "conversation = Conversation(\"Hi I'm Ray, how are you?\")\n",
        "conversation = chatbot(conversation)"
      ],
      "metadata": {
        "colab": {
          "base_uri": "https://localhost:8080/"
        },
        "id": "HtzbX6aFDzyV",
        "outputId": "58f45699-db59-451b-812b-e070e70fbaa4"
      },
      "execution_count": 4,
      "outputs": [
        {
          "output_type": "stream",
          "name": "stderr",
          "text": [
            "\n",
            "No chat template is defined for this tokenizer - using the default template for the BlenderbotTokenizerFast class. If the default is not appropriate for your model, please set `tokenizer.chat_template` to an appropriate template. See https://huggingface.co/docs/transformers/main/chat_templating for more information.\n",
            "\n"
          ]
        }
      ]
    },
    {
      "cell_type": "code",
      "source": [
        "conversation"
      ],
      "metadata": {
        "colab": {
          "base_uri": "https://localhost:8080/"
        },
        "id": "9VhOHvPkDz70",
        "outputId": "f17d40b0-55b2-4e19-e983-17b9eda43cf3"
      },
      "execution_count": 5,
      "outputs": [
        {
          "output_type": "execute_result",
          "data": {
            "text/plain": [
              "Conversation id: 970a37da-b32f-41b6-89c8-c52e86bd721c\n",
              "user: Hi I'm Ray, how are you?\n",
              "assistant:  Hi Ray! I'm doing well, thanks. How are you this fine evening?"
            ]
          },
          "metadata": {},
          "execution_count": 5
        }
      ]
    },
    {
      "cell_type": "code",
      "source": [
        "conversation.add_user_input(\"Where do you work?\")\n",
        "conversation = chatbot(conversation)"
      ],
      "metadata": {
        "id": "o_UgoTWaD0E4"
      },
      "execution_count": 6,
      "outputs": []
    },
    {
      "cell_type": "code",
      "source": [
        "conversation"
      ],
      "metadata": {
        "colab": {
          "base_uri": "https://localhost:8080/"
        },
        "id": "4cMga1XFD0OB",
        "outputId": "bb865018-7b68-4bb4-f460-f177fd12857e"
      },
      "execution_count": 7,
      "outputs": [
        {
          "output_type": "execute_result",
          "data": {
            "text/plain": [
              "Conversation id: 970a37da-b32f-41b6-89c8-c52e86bd721c\n",
              "user: Hi I'm Ray, how are you?\n",
              "assistant:  Hi Ray! I'm doing well, thanks. How are you this fine evening?\n",
              "user: Where do you work?\n",
              "assistant:  I work at a grocery store. What about you? What do you do for a living?"
            ]
          },
          "metadata": {},
          "execution_count": 7
        }
      ]
    },
    {
      "cell_type": "code",
      "source": [
        "# Vanilla chatbot\n",
        "message_list = []\n",
        "response_list = []\n",
        "\n",
        "def vanilla_chatbot(message, history):\n",
        "    conversation = Conversation(text=message, past_user_inputs=message_list, generated_responses=response_list)\n",
        "    conversation = chatbot(conversation)\n",
        "\n",
        "    return conversation.generated_responses[-1]\n",
        "\n",
        "demo_chatbot = gr.ChatInterface(vanilla_chatbot, title=\"Vanilla Chatbot\", description=\"Enter text to start chatting.\")\n",
        "\n",
        "demo_chatbot.launch()"
      ],
      "metadata": {
        "colab": {
          "base_uri": "https://localhost:8080/",
          "height": 619
        },
        "id": "mu6i2fwOD0Wm",
        "outputId": "08224416-eaa0-4868-bef3-3ba1227a7f6d"
      },
      "execution_count": 8,
      "outputs": [
        {
          "output_type": "stream",
          "name": "stdout",
          "text": [
            "Colab notebook detected. To show errors in colab notebook, set debug=True in launch()\n",
            "Note: opening Chrome Inspector may crash demo inside Colab notebooks.\n",
            "\n",
            "To create a public link, set `share=True` in `launch()`.\n"
          ]
        },
        {
          "output_type": "display_data",
          "data": {
            "text/plain": [
              "<IPython.core.display.Javascript object>"
            ],
            "application/javascript": [
              "(async (port, path, width, height, cache, element) => {\n",
              "                        if (!google.colab.kernel.accessAllowed && !cache) {\n",
              "                            return;\n",
              "                        }\n",
              "                        element.appendChild(document.createTextNode(''));\n",
              "                        const url = await google.colab.kernel.proxyPort(port, {cache});\n",
              "\n",
              "                        const external_link = document.createElement('div');\n",
              "                        external_link.innerHTML = `\n",
              "                            <div style=\"font-family: monospace; margin-bottom: 0.5rem\">\n",
              "                                Running on <a href=${new URL(path, url).toString()} target=\"_blank\">\n",
              "                                    https://localhost:${port}${path}\n",
              "                                </a>\n",
              "                            </div>\n",
              "                        `;\n",
              "                        element.appendChild(external_link);\n",
              "\n",
              "                        const iframe = document.createElement('iframe');\n",
              "                        iframe.src = new URL(path, url).toString();\n",
              "                        iframe.height = height;\n",
              "                        iframe.allow = \"autoplay; camera; microphone; clipboard-read; clipboard-write;\"\n",
              "                        iframe.width = width;\n",
              "                        iframe.style.border = 0;\n",
              "                        element.appendChild(iframe);\n",
              "                    })(7860, \"/\", \"100%\", 500, false, window.element)"
            ]
          },
          "metadata": {}
        },
        {
          "output_type": "execute_result",
          "data": {
            "text/plain": []
          },
          "metadata": {},
          "execution_count": 8
        }
      ]
    },
    {
      "cell_type": "code",
      "source": [],
      "metadata": {
        "id": "qB8loa0BBD5s"
      },
      "execution_count": null,
      "outputs": []
    }
  ]
}